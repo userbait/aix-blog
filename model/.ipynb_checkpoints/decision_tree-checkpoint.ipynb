{
 "cells": [
  {
   "cell_type": "code",
   "execution_count": 1,
   "metadata": {
    "pycharm": {
     "name": "#%%\n"
    }
   },
   "outputs": [
    {
     "ename": "ModuleNotFoundError",
     "evalue": "No module named 'pandas'",
     "output_type": "error",
     "traceback": [
      "\u001b[1;31m---------------------------------------------------------------------------\u001b[0m",
      "\u001b[1;31mModuleNotFoundError\u001b[0m                       Traceback (most recent call last)",
      "\u001b[1;32m~\\AppData\\Local\\Temp\\ipykernel_14556\\3413114497.py\u001b[0m in \u001b[0;36m<module>\u001b[1;34m\u001b[0m\n\u001b[1;32m----> 1\u001b[1;33m \u001b[1;32mimport\u001b[0m \u001b[0mpandas\u001b[0m \u001b[1;32mas\u001b[0m \u001b[0mpd\u001b[0m\u001b[1;33m\u001b[0m\u001b[1;33m\u001b[0m\u001b[0m\n\u001b[0m\u001b[0;32m      2\u001b[0m \u001b[1;32mfrom\u001b[0m \u001b[0msklearn\u001b[0m\u001b[1;33m.\u001b[0m\u001b[0mtree\u001b[0m \u001b[1;32mimport\u001b[0m \u001b[0mDecisionTreeClassifier\u001b[0m\u001b[1;33m\u001b[0m\u001b[1;33m\u001b[0m\u001b[0m\n\u001b[0;32m      3\u001b[0m \u001b[1;32mfrom\u001b[0m \u001b[0msklearn\u001b[0m\u001b[1;33m.\u001b[0m\u001b[0mmodel_selection\u001b[0m \u001b[1;32mimport\u001b[0m \u001b[0mtrain_test_split\u001b[0m\u001b[1;33m\u001b[0m\u001b[1;33m\u001b[0m\u001b[0m\n\u001b[0;32m      4\u001b[0m \u001b[1;32mfrom\u001b[0m \u001b[0msklearn\u001b[0m\u001b[1;33m.\u001b[0m\u001b[0mmetrics\u001b[0m \u001b[1;32mimport\u001b[0m \u001b[0maccuracy_score\u001b[0m\u001b[1;33m\u001b[0m\u001b[1;33m\u001b[0m\u001b[0m\n\u001b[0;32m      5\u001b[0m \u001b[1;32mfrom\u001b[0m \u001b[0msklearn\u001b[0m\u001b[1;33m.\u001b[0m\u001b[0mmetrics\u001b[0m \u001b[1;32mimport\u001b[0m \u001b[0mconfusion_matrix\u001b[0m\u001b[1;33m,\u001b[0m \u001b[0mConfusionMatrixDisplay\u001b[0m\u001b[1;33m\u001b[0m\u001b[1;33m\u001b[0m\u001b[0m\n",
      "\u001b[1;31mModuleNotFoundError\u001b[0m: No module named 'pandas'"
     ]
    }
   ],
   "source": [
    "import pandas as pd\n",
    "from sklearn.tree import DecisionTreeClassifier\n",
    "from sklearn.model_selection import train_test_split\n",
    "from sklearn.metrics import accuracy_score\n",
    "from sklearn.metrics import confusion_matrix, ConfusionMatrixDisplay\n",
    "\n",
    "\n",
    "if __name__ == \"__main__\":\n",
    "    data = pd.read_csv('../urlSet.csv', nrows=10000)\n",
    "\n",
    "    # 결측값 제거\n",
    "    data = data.dropna(axis=0)\n",
    "\n",
    "    # 이상치 제거(length_url)\n",
    "    data = data.drop(data.index[data['length_url'] < 0])\n",
    "\n",
    "    # 이상치 제거(shortening_service)\n",
    "    mask = data['shortening_service'].isin([0, 1])\n",
    "    data = data[mask]\n",
    "\n",
    "    # 이상치 제거(nb_at) / url의 @ 개수는 0 혹은 양의 정수만 가능\n",
    "    data = data.drop(data.index[data['nb_at'] < 0])\n",
    "    data = data[data['nb_at'].astype(str).str.isdigit()]\n",
    "\n",
    "    # 이상치 제거(nb_hyphens) / url에 하이픈 개수는 0 혹은 양의 정수만 가능\n",
    "    data = data.drop(data.index[data['nb_hyphens'] < 0])\n",
    "    data = data[data['nb_hyphens'].astype(str).str.isdigit()]\n",
    "\n",
    "    # 이상치 제거(https_token) / https 프로토콜이 사용되었는가 아닌가(0, 1)\n",
    "    mask = data['https_token'].isin([0, 1])\n",
    "    data = data[mask]\n",
    "\n",
    "    # 이상치 제거(nb_www) / www 서브 도메인의 개수는 0 혹은 양의 정수만\n",
    "    data = data.drop(data.index[data['nb_www'] < 0])\n",
    "    data = data[data['nb_www'].astype(str).str.isdigit()]\n",
    "\n",
    "    # 이상치 제거(dns_record) / dns 서버에 기록이 있는가 아닌가(0, 1)\n",
    "    mask = data['dns_record'].isin([0, 1])\n",
    "    data = data[mask]\n",
    "\n",
    "    # 이상치 제거(google_index) / 구글 색인에 등록되었는가 아닌가(0, 1)\n",
    "    mask = data['google_index'].isin([0, 1])\n",
    "    data = data[mask]\n",
    "\n",
    "    # 이상치 제거(page_rank) / Page rank는 0 혹은 양의 정수만 가능\n",
    "    data = data.drop(data.index[data['page_rank'] < 0])\n",
    "    data = data[data['page_rank'].astype(str).str.isdigit()]\n",
    "\n",
    "    # 이상치 제거(nb_hyperlinks) / a 태그의 개수는 0 혹은 양의 정수만 가능\n",
    "    data = data.drop(data.index[data['nb_hyperlinks'] < 0])\n",
    "    data = data[data['nb_hyperlinks'].astype(str).str.isdigit()]\n",
    "\n",
    "    # 데이터 전처리(피처 선택) / 데이터 셋 분리(독립변수 x / 종속변수 y)\n",
    "    x = data[['length_url', 'shortening_service', 'nb_at', 'nb_hyphens',\n",
    "              'https_token', 'nb_www', 'dns_record', 'page_rank', 'google_index', 'nb_hyperlinks']]\n",
    "    y = data['status']\n",
    "\n",
    "    # 학습 데이터, 검증 데이터 분리\n",
    "    (x_train, x_test, y_train, y_test) = train_test_split(x, y, test_size=0.25)\n",
    "\n",
    "    model = DecisionTreeClassifier()\n",
    "    model.fit(x_train, y_train)\n",
    "\n",
    "    # accuracy\n",
    "    predicted = model.predict(x)\n",
    "    accuracy = accuracy_score(y, predicted)\n",
    "    print(f'accuracy score: {accuracy:.4}')\n",
    "\n",
    "    # confusion matrix\n",
    "    predictions = model.predict(x)\n",
    "    cm = confusion_matrix(y, predictions, labels=model.classes_)\n",
    "    disp = ConfusionMatrixDisplay(confusion_matrix=cm, display_labels=model.classes_)\n",
    "    disp.plot()"
   ]
  }
 ],
 "metadata": {
  "kernelspec": {
   "display_name": "Python 3 (ipykernel)",
   "language": "python",
   "name": "python3"
  },
  "language_info": {
   "codemirror_mode": {
    "name": "ipython",
    "version": 3
   },
   "file_extension": ".py",
   "mimetype": "text/x-python",
   "name": "python",
   "nbconvert_exporter": "python",
   "pygments_lexer": "ipython3",
   "version": "3.7.13"
  }
 },
 "nbformat": 4,
 "nbformat_minor": 1
}
